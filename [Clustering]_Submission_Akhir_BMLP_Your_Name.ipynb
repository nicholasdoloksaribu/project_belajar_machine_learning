{
  "nbformat": 4,
  "nbformat_minor": 0,
  "metadata": {
    "colab": {
      "provenance": []
    },
    "kernelspec": {
      "name": "python3",
      "display_name": "Python 3"
    },
    "language_info": {
      "name": "python"
    }
  },
  "cells": [
    {
      "cell_type": "markdown",
      "source": [
        "# **Penting**\n",
        "- Pastikan Anda melakukan Run All sebelum mengirimkan submission untuk memastikan seluruh cell berjalan dengan baik.\n",
        "- Hapus simbol pagar (#) jika Anda menerapkan kriteria tambahan\n",
        "- Biarkan simbol pagar (#) jika Anda tidak menerapkan kriteria tambahan"
      ],
      "metadata": {
        "id": "0tvAKGat01Sd"
      }
    },
    {
      "cell_type": "markdown",
      "source": [
        "# **INFORMASI DATASET**\n",
        "## Latar Belakang\n",
        "\n",
        "Dalam dunia bisnis ritel, pemahaman terhadap perilaku pelanggan menjadi salah satu faktor krusial dalam menentukan strategi pemasaran, peningkatan layanan, serta pengambilan keputusan berbasis data. Salah satu pendekatan yang umum digunakan untuk memahami perilaku pelanggan adalah melalui segmentasi, yaitu proses pengelompokan pelanggan ke dalam beberapa segmen atau kelompok berdasarkan karakteristik tertentu.\n",
        "\n",
        "Dengan menerapkan metode **unsupervised learning**, khususnya **clustering**, proyek ini bertujuan untuk membentuk segmentasi pelanggan yang merepresentasikan pola-pola pembelian yang serupa. Hasil segmentasi ini diharapkan dapat memberikan insight yang bernilai bagi pihak manajemen, khususnya dalam menyusun strategi promosi yang lebih tepat sasaran, mengembangkan program loyalitas, serta mengoptimalkan layanan pelanggan."
      ],
      "metadata": {
        "id": "sKi5D9qVVJvY"
      }
    },
    {
      "cell_type": "markdown",
      "source": [
        "# **1. Import Library**\n",
        "Pada tahap ini, Anda perlu mengimpor beberapa pustaka (library) Python yang dibutuhkan untuk analisis data dan pembangunan model machine learning. Semua library yang dibutuhkan harus **import** di **cell** ini, jika ada library yang dijalankan di cell lain maka **submission langsung ditolak**"
      ],
      "metadata": {
        "id": "fKADPWcFKlj3"
      }
    },
    {
      "cell_type": "code",
      "source": [
        "#Type your code here"
      ],
      "metadata": {
        "id": "BlmvjLY9M4Yj"
      },
      "execution_count": null,
      "outputs": []
    },
    {
      "cell_type": "markdown",
      "source": [
        "# **2. Memuat Dataset**\n",
        "Pada tahap ini, Anda perlu memuat dataset ke dalam notebook lalu mengecek informasi dataset sebelum nantinya dilakukan pembersihan. Hal-hal yang perlu dilakukan pada tahapan ini yaitu:\n",
        "1. **Memahami Struktur Data**\n",
        "   - Dataset harus mengambil referensi wajib digunakan (bisa dilihat [Disini](https://drive.google.com/drive/folders/1Zs7VmPZ-jNwsRlMKH65Ea-LApSwx6lKx?usp=drive_link))\n",
        "   - Melakukan loading dataset ke dalam notebook dan menampilkan 10 baris pertama dengan function `head()`.\n",
        "   - Tinjau jumlah baris kolom dan jenis data dalam dataset dengan function `info()`.  \n",
        "   - Menampilkan statistik deskriptif dataset dengan menjalankan `describe()`.\n",
        "   - Pastikan **setiap function tersebut** memiliki **output pada setiap cell** code. Jika tidak **submission langsung ditolak**\n",
        "   "
      ],
      "metadata": {
        "id": "f3YIEnAFKrKL"
      }
    },
    {
      "cell_type": "markdown",
      "source": [
        "Gunakan code ini untuk melakukan load data secara otomatis tanpa harus download data tersebut secara manual:\n",
        "```python\n",
        "url='https://drive.google.com/uc?id=1gnLO9qvEPqv1uBt1928AcsCmdvzqjC5m'\n",
        "df = pd.read_csv(url)\n",
        "```"
      ],
      "metadata": {
        "id": "JgKXTwx2LMQA"
      }
    },
    {
      "cell_type": "code",
      "source": [
        "# Tampilkan 10 baris pertama dengan function head."
      ],
      "metadata": {
        "id": "GHCGNTyrM5fS"
      },
      "execution_count": null,
      "outputs": []
    },
    {
      "cell_type": "code",
      "source": [
        "# Tinjau jumlah baris kolom dan jenis data dalam dataset dengan info."
      ],
      "metadata": {
        "id": "0MgRVyMLnR5h"
      },
      "execution_count": null,
      "outputs": []
    },
    {
      "cell_type": "code",
      "source": [
        "# Menampilkan statistik deskriptif dataset dengan menjalankan describe"
      ],
      "metadata": {
        "id": "hN9KsJPonVKT"
      },
      "execution_count": null,
      "outputs": []
    },
    {
      "cell_type": "markdown",
      "source": [
        "(Opsional) Memuat Dataset dan Melakukan Exploratory Data Analysis (EDA) [Skilled]\n",
        "\n",
        "**Biarkan kosong jika tidak menerapkan kriteria skilled**"
      ],
      "metadata": {
        "id": "DNOEZk24uiXu"
      }
    },
    {
      "cell_type": "code",
      "source": [
        "# Menampilkan korelasi antar fitur (Opsional Skilled 1)"
      ],
      "metadata": {
        "id": "DGAJlKExnYAt"
      },
      "execution_count": null,
      "outputs": []
    },
    {
      "cell_type": "code",
      "source": [
        "# Menampilkan histogram untuk semua kolom numerik (Opsional Skilled 1)"
      ],
      "metadata": {
        "id": "kcBn9v4Fn8FO"
      },
      "execution_count": null,
      "outputs": []
    },
    {
      "cell_type": "markdown",
      "source": [
        "(Opsional) Memuat Dataset dan Melakukan Exploratory Data Analysis (EDA) [Advanced]\n",
        "\n",
        "**Biarkan kosong jika tidak menerapkan kriteria advanced**"
      ],
      "metadata": {
        "id": "k-S35baFuwaP"
      }
    },
    {
      "cell_type": "code",
      "source": [
        "# Visualisasi yang lebih informatif (Opsional Advanced 1)"
      ],
      "metadata": {
        "id": "GVIuT8VDokKn"
      },
      "execution_count": null,
      "outputs": []
    },
    {
      "cell_type": "markdown",
      "source": [
        "# **3. Pembersihan dan Pra Pemrosesan Data**\n",
        "\n",
        "Pada tahap ini, Anda akan melakukan **Pembersihan Dataset** untuk menjadikan dataset mudah diintepretasi dan bisa dilatih. Hal-hal yang wajib kamu lakukan yaitu:\n",
        "\n",
        "1. **Mengecek dataset** menggunakan isnull().sum() dan duplicated().sum().\n",
        "2. Melakukan feature scaling menggunakan `MinMaxScaler()` atau `StandardScalar()` untuk fitur numerik.\n",
        "3. Melakukan feature encoding menggunakan `pd.get_dummies()` atau `LabelEncoder()` untuk fitur kategorikal.\n",
        "4. Melakukan drop pada kolom id.\n",
        "5. **Ketentuan Cell Code**\n",
        "   - Pastikan **setiap pemeriksaan tersebut** memiliki **output pada cell-nya**. Jika tidak **submission langsung ditolak**\n"
      ],
      "metadata": {
        "id": "cSemyzQHU0On"
      }
    },
    {
      "cell_type": "code",
      "source": [
        "# Mengecek dataset menggunakan isnull().sum()"
      ],
      "metadata": {
        "id": "dKeejtvxM6X1"
      },
      "execution_count": null,
      "outputs": []
    },
    {
      "cell_type": "code",
      "source": [
        "# Mengecek dataset menggunakan duplicated().sum()"
      ],
      "metadata": {
        "id": "2RrBA92mpHBc"
      },
      "execution_count": null,
      "outputs": []
    },
    {
      "cell_type": "code",
      "source": [
        "# Melakukan feature scaling menggunakan MinMaxScaler() atau StandardScalar() untuk fitur numerik."
      ],
      "metadata": {
        "id": "G7WXozOgpJp-"
      },
      "execution_count": null,
      "outputs": []
    },
    {
      "cell_type": "code",
      "source": [
        "# Melakukan feature encoding menggunakan pd.get_dummies() atau LabelEncoder() untuk fitur kategorikal."
      ],
      "metadata": {
        "id": "6eycdNMQqx4c"
      },
      "execution_count": null,
      "outputs": []
    },
    {
      "cell_type": "code",
      "source": [
        "# Melakukan drop pada kolom yang memiliki keterangan id"
      ],
      "metadata": {
        "id": "TGLR0NTwsMOp"
      },
      "execution_count": null,
      "outputs": []
    },
    {
      "cell_type": "markdown",
      "source": [
        "(Opsional) Pembersihan dan Pra Pemrosesan Data [Skilled]\n",
        "\n",
        "**Biarkan kosong jika tidak menerapkan kriteria skilled**"
      ],
      "metadata": {
        "id": "qnbH2l_wv9l8"
      }
    },
    {
      "cell_type": "code",
      "source": [
        "# Menangani data yang hilang (bisa menggunakan dropna() atau metode imputasi fillna())."
      ],
      "metadata": {
        "id": "-UoGhAUrsxIV"
      },
      "execution_count": null,
      "outputs": []
    },
    {
      "cell_type": "code",
      "source": [
        "# Menghapus data duplikat menggunakan drop_duplicates()."
      ],
      "metadata": {
        "id": "WGt2XApTttSL"
      },
      "execution_count": null,
      "outputs": []
    },
    {
      "cell_type": "markdown",
      "source": [
        "(Opsional) Pembersihan dan Pra Pemrosesan Data [Advanced]\n",
        "\n",
        "**Biarkan kosong jika tidak menerapkan kriteria advanced**"
      ],
      "metadata": {
        "id": "H5RrswThwQrC"
      }
    },
    {
      "cell_type": "code",
      "source": [
        "# Melakukan Handling Outlier Data berdasarkan jumlah outlier, apakah menggunakan metode drop atau mengisi nilai tersebut."
      ],
      "metadata": {
        "id": "mvhfyYpat9Xs"
      },
      "execution_count": null,
      "outputs": []
    },
    {
      "cell_type": "code",
      "source": [
        "# Melakukan binning data berdasarkan kondisi rentang nilai pada fitur numerik,\n",
        "# lakukan pada satu sampai dua fitur numerik.\n",
        "# Silahkan lakukan encode hasil binning tersebut menggunakan LabelEncoder atau get_dummies."
      ],
      "metadata": {
        "id": "QjcR-3G0u-GL"
      },
      "execution_count": null,
      "outputs": []
    },
    {
      "cell_type": "markdown",
      "source": [
        "# **4. Membangun Model Clustering**\n",
        "Pada tahap ini, Anda membangun model clustering dengan memilih algoritma yang sesuai untuk mengelompokkan data berdasarkan kesamaan.\n",
        "1. Melakukan visualisasi Elbow Method untuk menentukan jumlah cluster terbaik menggunakan `KElbowVisualizer()`.\n",
        "2. Menggunakan algoritma K-Means Clustering dengan `sklearn.cluster.KMeans()`.\n",
        "3. Jalankan cell code `joblib.dump(model_kmeans, \"best_model_clustering.h5\")` untuk menyimpan model yang sudah dibuat."
      ],
      "metadata": {
        "id": "Fkd_QHXWMBDr"
      }
    },
    {
      "cell_type": "code",
      "source": [
        "# Gunakan describe untuk memastikan proses clustering menggunakan dataset hasil preprocessing\n",
        "# Lengkapi kode ini dengan mengubah nama DataFrame yang akan dilatih.\n",
        "# Kode harus digunakan dan dilarang menambahkan syntax lainnya pada cell ini.\n",
        "# ___.describe()"
      ],
      "metadata": {
        "id": "hYHmRnb42A1P"
      },
      "execution_count": null,
      "outputs": []
    },
    {
      "cell_type": "code",
      "source": [
        "# Melakukan visualisasi Elbow Method menggunakan KElbowVisualizer()"
      ],
      "metadata": {
        "id": "hgYvwWOzM93L"
      },
      "execution_count": null,
      "outputs": []
    },
    {
      "cell_type": "code",
      "source": [
        "# Menggunakan algoritma K-Means Clustering"
      ],
      "metadata": {
        "id": "HvngRg-r4EcL"
      },
      "execution_count": null,
      "outputs": []
    },
    {
      "cell_type": "markdown",
      "source": [
        "Jalankan cell code ini untuk menyimpan model kamu."
      ],
      "metadata": {
        "id": "6aVHlHyU1Dcx"
      }
    },
    {
      "cell_type": "code",
      "source": [
        "# Menyimpan model menggunakan joblib\n",
        "# import joblib\n",
        "# joblib.dump(___, \"model_clustering.h5\")"
      ],
      "metadata": {
        "id": "D7AvYmQnY_fI"
      },
      "execution_count": null,
      "outputs": []
    },
    {
      "cell_type": "markdown",
      "source": [
        "(Opsional) Membangun Model Clustering [Skilled]\n",
        "\n",
        "**Biarkan kosong jika tidak menerapkan kriteria skilled**"
      ],
      "metadata": {
        "id": "YDOD9eVMx3mC"
      }
    },
    {
      "cell_type": "code",
      "source": [
        "# Menghitung dan menampilkan nilai Silhouette Score."
      ],
      "metadata": {
        "id": "SELNsH5O4Oyn"
      },
      "execution_count": null,
      "outputs": []
    },
    {
      "cell_type": "code",
      "source": [
        "# Membuat visualisasi hasil clustering"
      ],
      "metadata": {
        "id": "K4EbkaXg4QAN"
      },
      "execution_count": null,
      "outputs": []
    },
    {
      "cell_type": "markdown",
      "source": [
        "(Opsional) Membangun Model Clustering [Advanced]\n",
        "\n",
        "**Biarkan kosong jika tidak menerapkan kriteria advanced**"
      ],
      "metadata": {
        "id": "uloMRbnsyAbB"
      }
    },
    {
      "cell_type": "code",
      "source": [
        "# Membangun model menggunakan PCA."
      ],
      "metadata": {
        "id": "SgfOarXX4SD2"
      },
      "execution_count": null,
      "outputs": []
    },
    {
      "cell_type": "code",
      "source": [
        "# Simpan model PCA sebagai perbandingan dengan menjalankan cell code ini joblib.dump(model,\"PCA_model_clustering.h5\")\n",
        "# joblib.dump(___, \"PCA_model_clustering.h5\")"
      ],
      "metadata": {
        "id": "uKvJy9Ky4VB3"
      },
      "execution_count": null,
      "outputs": []
    },
    {
      "cell_type": "markdown",
      "source": [
        "# **5. Interpretasi Cluster**"
      ],
      "metadata": {
        "id": "anlTI9Trb7F6"
      }
    },
    {
      "cell_type": "markdown",
      "source": [
        "## **a. Interpretasi Hasil Clustering**\n",
        "1. **Contoh Interpretasi:**\n",
        "- **Cluster 1: (Nasabah Bertransaksi dan Pendapatan Besar)**:\n",
        "  - **Rata-rata (mean) Annual Income:** 0.953 (48,260)\n",
        "  - **Rata-rata (mean) Spending Score:** 0.8 (56.48)\n",
        "  - **Analisis:** Cluster ini mencakup pelanggan dengan pendapatan tahunan tinggi dan tingkat pengeluaran yang cukup tinggi. Pelanggan dalam cluster ini cenderung memiliki daya beli yang tinggi dan mereka lebih cenderung untuk membelanjakan sebagian besar pendapatan mereka. Sehingga rekomendasi pada kelompok nasabah ini adalah dengan menawarkan produk-produk investasi atau perbankan yang berkualitas tinggi.\n"
      ],
      "metadata": {
        "id": "JfgVMEBDS3KG"
      }
    },
    {
      "cell_type": "code",
      "source": [
        "# Menampilkan analisis deskriptif minimal mean untuk fitur numerik dan modus untuk fitur kategorikal.\n",
        "# Silakan menambahkan fungsi agregasi lainnya untuk experience lebih baik."
      ],
      "metadata": {
        "id": "Qmpy4fmV64Mi"
      },
      "execution_count": null,
      "outputs": []
    },
    {
      "cell_type": "markdown",
      "source": [
        "## Menjelaskan karakteristik tiap cluster berdasarkan rentangnya.\n",
        "1. **Cluster 1: (___)**:\n",
        "  - **Rata-rata (mean) <Fitur>:** <Sebelum inverse> <Setelah inverse>\n",
        "  - **Analisis:** Cluster ini ..."
      ],
      "metadata": {
        "id": "KrjMI_dG6tnb"
      }
    },
    {
      "cell_type": "markdown",
      "source": [
        "# **6. Mengeksport Data**\n",
        "\n",
        "1. Simpan nama kolom hasil clustering dengan nama `Target`.\n",
        "2. Simpan hasilnya ke dalam file CSV menggunakan function `to_csv()`."
      ],
      "metadata": {
        "id": "jaYP1fx5VgWO"
      }
    },
    {
      "cell_type": "code",
      "source": [
        "# Pastikan nama kolom clustering sudah diubah menjadi Target"
      ],
      "metadata": {
        "id": "3FInN10U5S4f"
      },
      "execution_count": null,
      "outputs": []
    },
    {
      "cell_type": "code",
      "source": [
        "# Simpan Data\n",
        "# ___.to_csv('data_clustering.csv', index=False)"
      ],
      "metadata": {
        "id": "fkbg_o80aRSH"
      },
      "execution_count": null,
      "outputs": []
    },
    {
      "cell_type": "markdown",
      "source": [
        "(Opsional) Interpretasi Hasil Clustering [Skilled]\n",
        "\n",
        "**Biarkan kosong jika tidak menerapkan kriteria skilled**"
      ],
      "metadata": {
        "id": "rz1vFc2yzFPD"
      }
    },
    {
      "cell_type": "code",
      "source": [
        "# inverse dataset ke rentang normal"
      ],
      "metadata": {
        "id": "OMcRV15y_hH3"
      },
      "execution_count": null,
      "outputs": []
    },
    {
      "cell_type": "markdown",
      "source": [
        "## Menjelaskan karakteristik tiap cluster berdasarkan rentangnya setelah inverse.\n",
        "1. **Cluster 1: (___)**:\n",
        "  - **Rata-rata (mean) <Fitur>:** <Sebelum inverse> <Setelah inverse>\n",
        "  - **Analisis:** Cluster ini ..."
      ],
      "metadata": {
        "id": "WcaT8sxVzLs6"
      }
    },
    {
      "cell_type": "markdown",
      "source": [
        "(Opsional) Interpretasi Hasil Clustering [Advanced]\n",
        "\n",
        "**Biarkan kosong jika tidak menerapkan kriteria advanced**"
      ],
      "metadata": {
        "id": "jSd6vZslzatv"
      }
    },
    {
      "cell_type": "code",
      "source": [
        "# Mengintegrasikan kembali data yang telah di-inverse dengan hasil cluster."
      ],
      "metadata": {
        "id": "4mGIyUZ2zRCP"
      },
      "execution_count": null,
      "outputs": []
    },
    {
      "cell_type": "code",
      "source": [
        "# Simpan Data\n",
        "# ___.to_csv('data_clustering_inverse.csv', index=False)"
      ],
      "metadata": {
        "id": "BEASz_Q__jms"
      },
      "execution_count": null,
      "outputs": []
    }
  ]
}